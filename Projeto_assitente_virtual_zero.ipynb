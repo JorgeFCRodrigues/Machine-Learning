{
  "nbformat": 4,
  "nbformat_minor": 0,
  "metadata": {
    "colab": {
      "provenance": [],
      "authorship_tag": "ABX9TyMIbD2JaZcLmCpQQo4u9xyA",
      "include_colab_link": true
    },
    "kernelspec": {
      "name": "python3",
      "display_name": "Python 3"
    },
    "language_info": {
      "name": "python"
    }
  },
  "cells": [
    {
      "cell_type": "markdown",
      "metadata": {
        "id": "view-in-github",
        "colab_type": "text"
      },
      "source": [
        "<a href=\"https://colab.research.google.com/github/JorgeFCRodrigues/Machine-Learning/blob/main/Projeto_assitente_virtual_zero.ipynb\" target=\"_parent\"><img src=\"https://colab.research.google.com/assets/colab-badge.svg\" alt=\"Open In Colab\"/></a>"
      ]
    },
    {
      "cell_type": "code",
      "execution_count": null,
      "metadata": {
        "colab": {
          "base_uri": "https://localhost:8080/"
        },
        "id": "x2MpMcLfdmTL",
        "outputId": "1f705e99-a406-4116-e686-20f197df5779",
        "collapsed": true
      },
      "outputs": [
        {
          "output_type": "stream",
          "name": "stdout",
          "text": [
            "Requirement already satisfied: gTTS in /usr/local/lib/python3.12/dist-packages (2.5.4)\n",
            "Requirement already satisfied: requests<3,>=2.27 in /usr/local/lib/python3.12/dist-packages (from gTTS) (2.32.4)\n",
            "Requirement already satisfied: click<8.2,>=7.1 in /usr/local/lib/python3.12/dist-packages (from gTTS) (8.1.8)\n",
            "Requirement already satisfied: charset_normalizer<4,>=2 in /usr/local/lib/python3.12/dist-packages (from requests<3,>=2.27->gTTS) (3.4.3)\n",
            "Requirement already satisfied: idna<4,>=2.5 in /usr/local/lib/python3.12/dist-packages (from requests<3,>=2.27->gTTS) (3.10)\n",
            "Requirement already satisfied: urllib3<3,>=1.21.1 in /usr/local/lib/python3.12/dist-packages (from requests<3,>=2.27->gTTS) (2.5.0)\n",
            "Requirement already satisfied: certifi>=2017.4.17 in /usr/local/lib/python3.12/dist-packages (from requests<3,>=2.27->gTTS) (2025.8.3)\n"
          ]
        }
      ],
      "source": [
        "!pip install gTTS\n",
        "\n",
        "from gtts import gTTS"
      ]
    },
    {
      "cell_type": "code",
      "source": [
        "import os\n",
        "\n",
        "texto_falar = \"Como você vai?\"\n",
        "\n",
        "language = \"pt\"\n",
        "\n",
        "ggts_obj = gTTS(text=texto_falar, lang=language, slow=False)\n",
        "\n",
        "# Create the directory if it doesn't exist\n",
        "if not os.path.exists('./content'):\n",
        "    os.makedirs('./content')\n",
        "\n",
        "ggts_obj.save(\"./content/falar.mp3\")"
      ],
      "metadata": {
        "id": "YCTPruV5eFAe"
      },
      "execution_count": null,
      "outputs": []
    },
    {
      "cell_type": "code",
      "source": [
        "from IPython.display import Audio\n",
        "\n",
        "Audio(\"./content/falar.mp3\", autoplay=True)"
      ],
      "metadata": {
        "colab": {
          "base_uri": "https://localhost:8080/",
          "height": 75
        },
        "id": "CiXY0j-AeQz9",
        "outputId": "96f21b4a-2000-4e4e-ee94-221669cf52e0"
      },
      "execution_count": null,
      "outputs": [
        {
          "output_type": "execute_result",
          "data": {
            "text/plain": [
              "<IPython.lib.display.Audio object>"
            ],
            "text/html": [
              "\n",
              "                <audio  controls=\"controls\" autoplay=\"autoplay\">\n",
              "                    <source src=\"data:audio/mpeg;base64,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\" type=\"audio/mpeg\" />\n",
              "                    Your browser does not support the audio element.\n",
              "                </audio>\n",
              "              "
            ]
          },
          "metadata": {},
          "execution_count": 10
        }
      ]
    },
    {
      "cell_type": "code",
      "source": [
        "!pip install SpeechRecognition\n",
        "!pip install playsound\n",
        "!pip install pyjokes\n",
        "!pip install wikipedia\n",
        "!pip install pyaudio\n",
        "!pip install webbrowser\n",
        "!pip install pygame\n",
        "\n",
        "import speech_recognition as sr\n",
        "from gtts import gTTS\n",
        "import os\n",
        "from datetime import datetime\n",
        "import playsound\n",
        "import pyjokes\n",
        "import pyaudio\n",
        "import wikipedia\n",
        "import webbrowser\n",
        "from pygame import mixer"
      ],
      "metadata": {
        "colab": {
          "base_uri": "https://localhost:8080/",
          "height": 956
        },
        "id": "ZJbRYrgDfR5W",
        "outputId": "9a2c2268-2a6a-4ec1-f5cc-dbb6f1e58f69"
      },
      "execution_count": null,
      "outputs": [
        {
          "output_type": "stream",
          "name": "stdout",
          "text": [
            "Reading package lists... Done\n",
            "Building dependency tree... Done\n",
            "Reading state information... Done\n",
            "libasound2-dev is already the newest version (1.2.6.1-1ubuntu1).\n",
            "libportaudio2 is already the newest version (19.6.0-1.1).\n",
            "libportaudiocpp0 is already the newest version (19.6.0-1.1).\n",
            "portaudio19-dev is already the newest version (19.6.0-1.1).\n",
            "ffmpeg is already the newest version (7:4.4.2-0ubuntu0.22.04.1).\n",
            "0 upgraded, 0 newly installed, 0 to remove and 35 not upgraded.\n",
            "Requirement already satisfied: SpeechRecognition in /usr/local/lib/python3.12/dist-packages (3.14.3)\n",
            "Requirement already satisfied: typing-extensions in /usr/local/lib/python3.12/dist-packages (from SpeechRecognition) (4.15.0)\n",
            "Requirement already satisfied: playsound in /usr/local/lib/python3.12/dist-packages (1.3.0)\n",
            "Requirement already satisfied: pyjokes in /usr/local/lib/python3.12/dist-packages (0.8.3)\n",
            "Requirement already satisfied: wikipedia in /usr/local/lib/python3.12/dist-packages (1.4.0)\n",
            "Requirement already satisfied: beautifulsoup4 in /usr/local/lib/python3.12/dist-packages (from wikipedia) (4.13.5)\n",
            "Requirement already satisfied: requests<3.0.0,>=2.0.0 in /usr/local/lib/python3.12/dist-packages (from wikipedia) (2.32.4)\n",
            "Requirement already satisfied: charset_normalizer<4,>=2 in /usr/local/lib/python3.12/dist-packages (from requests<3.0.0,>=2.0.0->wikipedia) (3.4.3)\n",
            "Requirement already satisfied: idna<4,>=2.5 in /usr/local/lib/python3.12/dist-packages (from requests<3.0.0,>=2.0.0->wikipedia) (3.10)\n",
            "Requirement already satisfied: urllib3<3,>=1.21.1 in /usr/local/lib/python3.12/dist-packages (from requests<3.0.0,>=2.0.0->wikipedia) (2.5.0)\n",
            "Requirement already satisfied: certifi>=2017.4.17 in /usr/local/lib/python3.12/dist-packages (from requests<3.0.0,>=2.0.0->wikipedia) (2025.8.3)\n",
            "Requirement already satisfied: soupsieve>1.2 in /usr/local/lib/python3.12/dist-packages (from beautifulsoup4->wikipedia) (2.8)\n",
            "Requirement already satisfied: typing-extensions>=4.0.0 in /usr/local/lib/python3.12/dist-packages (from beautifulsoup4->wikipedia) (4.15.0)\n",
            "\u001b[31mERROR: Could not find a version that satisfies the requirement webbrowser (from versions: none)\u001b[0m\u001b[31m\n",
            "\u001b[0m\u001b[31mERROR: No matching distribution found for webbrowser\u001b[0m\u001b[31m\n",
            "\u001b[0mRequirement already satisfied: pygame in /usr/local/lib/python3.12/dist-packages (2.6.1)\n",
            "Requirement already satisfied: PyAudio in /usr/lib/python3/dist-packages (0.2.11)\n",
            "Could not import the PyAudio C module '_portaudio'.\n"
          ]
        },
        {
          "output_type": "error",
          "ename": "ModuleNotFoundError",
          "evalue": "No module named '_portaudio'",
          "traceback": [
            "\u001b[0;31m---------------------------------------------------------------------------\u001b[0m",
            "\u001b[0;31mModuleNotFoundError\u001b[0m                       Traceback (most recent call last)",
            "\u001b[0;32m/tmp/ipython-input-1384876410.py\u001b[0m in \u001b[0;36m<cell line: 0>\u001b[0;34m()\u001b[0m\n\u001b[1;32m     17\u001b[0m \u001b[0;32mimport\u001b[0m \u001b[0mwikipedia\u001b[0m\u001b[0;34m\u001b[0m\u001b[0;34m\u001b[0m\u001b[0m\n\u001b[1;32m     18\u001b[0m \u001b[0;32mimport\u001b[0m \u001b[0mwebbrowser\u001b[0m\u001b[0;34m\u001b[0m\u001b[0;34m\u001b[0m\u001b[0m\n\u001b[0;32m---> 19\u001b[0;31m \u001b[0;32mimport\u001b[0m \u001b[0mpyaudio\u001b[0m\u001b[0;34m\u001b[0m\u001b[0;34m\u001b[0m\u001b[0m\n\u001b[0m\u001b[1;32m     20\u001b[0m \u001b[0;32mfrom\u001b[0m \u001b[0mpygame\u001b[0m \u001b[0;32mimport\u001b[0m \u001b[0mmixer\u001b[0m\u001b[0;34m\u001b[0m\u001b[0;34m\u001b[0m\u001b[0m\n",
            "\u001b[0;32m/usr/lib/python3/dist-packages/pyaudio.py\u001b[0m in \u001b[0;36m<module>\u001b[0;34m\u001b[0m\n\u001b[1;32m    114\u001b[0m \u001b[0;31m# attempt to import PortAudio\u001b[0m\u001b[0;34m\u001b[0m\u001b[0;34m\u001b[0m\u001b[0m\n\u001b[1;32m    115\u001b[0m \u001b[0;32mtry\u001b[0m\u001b[0;34m:\u001b[0m\u001b[0;34m\u001b[0m\u001b[0;34m\u001b[0m\u001b[0m\n\u001b[0;32m--> 116\u001b[0;31m     \u001b[0;32mimport\u001b[0m \u001b[0m_portaudio\u001b[0m \u001b[0;32mas\u001b[0m \u001b[0mpa\u001b[0m\u001b[0;34m\u001b[0m\u001b[0;34m\u001b[0m\u001b[0m\n\u001b[0m\u001b[1;32m    117\u001b[0m \u001b[0;32mexcept\u001b[0m \u001b[0mImportError\u001b[0m\u001b[0;34m:\u001b[0m\u001b[0;34m\u001b[0m\u001b[0;34m\u001b[0m\u001b[0m\n\u001b[1;32m    118\u001b[0m     \u001b[0mprint\u001b[0m\u001b[0;34m(\u001b[0m\u001b[0;34m\"Could not import the PyAudio C module '_portaudio'.\"\u001b[0m\u001b[0;34m)\u001b[0m\u001b[0;34m\u001b[0m\u001b[0;34m\u001b[0m\u001b[0m\n",
            "\u001b[0;31mModuleNotFoundError\u001b[0m: No module named '_portaudio'",
            "",
            "\u001b[0;31m---------------------------------------------------------------------------\u001b[0;32m\nNOTE: If your import is failing due to a missing package, you can\nmanually install dependencies using either !pip or !apt.\n\nTo view examples of installing some common dependencies, click the\n\"Open Examples\" button below.\n\u001b[0;31m---------------------------------------------------------------------------\u001b[0m\n"
          ],
          "errorDetails": {
            "actions": [
              {
                "action": "open_url",
                "actionText": "Open Examples",
                "url": "/notebooks/snippets/importing_libraries.ipynb"
              }
            ]
          }
        }
      ]
    },
    {
      "cell_type": "code",
      "metadata": {
        "id": "241734e6"
      },
      "source": [
        "def get_audio():\n",
        "  r = sr.Recognizer()\n",
        "  with sr.Microphone() as source:\n",
        "    r.pause_threshold = 1\n",
        "    r.adjust_for_ambient_noise(source, duration=1)\n",
        "    audio = r.listen(source)\n",
        "    said = \"\"\n",
        "    try:\n",
        "      said = r.recognize_google(audio, language=\"pt-BR\")\n",
        "      print(said)\n",
        "    except sr.UnknownValueError:\n",
        "      print(\"Desculpe, não entendi\")\n",
        "    except sr.RequestError:\n",
        "      print(\"Desculpe, serviço não está disponível\")\n",
        "    return said.lower()"
      ],
      "execution_count": null,
      "outputs": []
    },
    {
      "cell_type": "code",
      "source": [
        "def speak(text):\n",
        "  tts = gTTS(text=text, lang=\"pt\")\n",
        "  filename = \"voice.mp3\"\n",
        "  try:\n",
        "    os.remove(filename)\n",
        "  except OSError:\n",
        "    pass\n",
        "  tts.save(filename)\n",
        "  playsound.playsound(filename)"
      ],
      "metadata": {
        "id": "rrzZu55hjvgd"
      },
      "execution_count": null,
      "outputs": []
    },
    {
      "cell_type": "code",
      "source": [
        "def respond(text):\n",
        "  print(\"Texto para aúdio\" + text)\n",
        "  if \"horas\" in text:\n",
        "    strTime = datetime.now().strftime(\"%H:%M\")\n",
        "    print(strTime)\n",
        "    speak(f\"A hora é {strTime}\")\n",
        "\n",
        "  elif \"pesquisa\" in text:\n",
        "    speak(\"O que você quer pesquisar?\")\n",
        "    query = get_audio()\n",
        "    if query !=\"\":\n",
        "      result = wikipedia.summary(query, sentences=3)\n",
        "      speak(\"De acordo com a Wikipedia\")\n",
        "      print(result)\n",
        "      speak(result)\n",
        "\n",
        "  elif \"joke\" in text:\n",
        "    speak(pyjokes.get_joke())\n",
        "\n",
        "  elif \"Ate mais\" in text:\n",
        "    speak(\"Até mais, espero ter ajudado\")\n",
        "    exit()\n",
        "\n",
        "while True:\n",
        "  print(\"Estou te ouvindo...\")\n",
        "  text = get_audio()\n",
        "  respond(text)"
      ],
      "metadata": {
        "colab": {
          "base_uri": "https://localhost:8080/",
          "height": 443
        },
        "id": "JK8oPHgvkHeV",
        "outputId": "bebc67fa-7086-4bf9-a477-09edcbe08085"
      },
      "execution_count": null,
      "outputs": [
        {
          "output_type": "stream",
          "name": "stdout",
          "text": [
            "Estou te ouvindo...\n",
            "Could not import the PyAudio C module '_portaudio'.\n"
          ]
        },
        {
          "output_type": "error",
          "ename": "AttributeError",
          "evalue": "Could not find PyAudio; check installation",
          "traceback": [
            "\u001b[0;31m---------------------------------------------------------------------------\u001b[0m",
            "\u001b[0;31mModuleNotFoundError\u001b[0m                       Traceback (most recent call last)",
            "\u001b[0;32m/usr/local/lib/python3.12/dist-packages/speech_recognition/__init__.py\u001b[0m in \u001b[0;36mget_pyaudio\u001b[0;34m()\u001b[0m\n\u001b[1;32m    102\u001b[0m         \u001b[0;32mtry\u001b[0m\u001b[0;34m:\u001b[0m\u001b[0;34m\u001b[0m\u001b[0;34m\u001b[0m\u001b[0m\n\u001b[0;32m--> 103\u001b[0;31m             \u001b[0;32mimport\u001b[0m \u001b[0mpyaudio\u001b[0m\u001b[0;34m\u001b[0m\u001b[0;34m\u001b[0m\u001b[0m\n\u001b[0m\u001b[1;32m    104\u001b[0m         \u001b[0;32mexcept\u001b[0m \u001b[0mImportError\u001b[0m\u001b[0;34m:\u001b[0m\u001b[0;34m\u001b[0m\u001b[0;34m\u001b[0m\u001b[0m\n",
            "\u001b[0;32m/usr/lib/python3/dist-packages/pyaudio.py\u001b[0m in \u001b[0;36m<module>\u001b[0;34m\u001b[0m\n\u001b[1;32m    115\u001b[0m \u001b[0;32mtry\u001b[0m\u001b[0;34m:\u001b[0m\u001b[0;34m\u001b[0m\u001b[0;34m\u001b[0m\u001b[0m\n\u001b[0;32m--> 116\u001b[0;31m     \u001b[0;32mimport\u001b[0m \u001b[0m_portaudio\u001b[0m \u001b[0;32mas\u001b[0m \u001b[0mpa\u001b[0m\u001b[0;34m\u001b[0m\u001b[0;34m\u001b[0m\u001b[0m\n\u001b[0m\u001b[1;32m    117\u001b[0m \u001b[0;32mexcept\u001b[0m \u001b[0mImportError\u001b[0m\u001b[0;34m:\u001b[0m\u001b[0;34m\u001b[0m\u001b[0;34m\u001b[0m\u001b[0m\n",
            "\u001b[0;31mModuleNotFoundError\u001b[0m: No module named '_portaudio'",
            "\nDuring handling of the above exception, another exception occurred:\n",
            "\u001b[0;31mAttributeError\u001b[0m                            Traceback (most recent call last)",
            "\u001b[0;32m/tmp/ipython-input-2257911338.py\u001b[0m in \u001b[0;36m<cell line: 0>\u001b[0;34m()\u001b[0m\n\u001b[1;32m     24\u001b[0m \u001b[0;32mwhile\u001b[0m \u001b[0;32mTrue\u001b[0m\u001b[0;34m:\u001b[0m\u001b[0;34m\u001b[0m\u001b[0;34m\u001b[0m\u001b[0m\n\u001b[1;32m     25\u001b[0m   \u001b[0mprint\u001b[0m\u001b[0;34m(\u001b[0m\u001b[0;34m\"Estou te ouvindo...\"\u001b[0m\u001b[0;34m)\u001b[0m\u001b[0;34m\u001b[0m\u001b[0;34m\u001b[0m\u001b[0m\n\u001b[0;32m---> 26\u001b[0;31m   \u001b[0mtext\u001b[0m \u001b[0;34m=\u001b[0m \u001b[0mget_audio\u001b[0m\u001b[0;34m(\u001b[0m\u001b[0;34m)\u001b[0m\u001b[0;34m\u001b[0m\u001b[0;34m\u001b[0m\u001b[0m\n\u001b[0m\u001b[1;32m     27\u001b[0m   \u001b[0mrespond\u001b[0m\u001b[0;34m(\u001b[0m\u001b[0mtext\u001b[0m\u001b[0;34m)\u001b[0m\u001b[0;34m\u001b[0m\u001b[0;34m\u001b[0m\u001b[0m\n",
            "\u001b[0;32m/tmp/ipython-input-1903257048.py\u001b[0m in \u001b[0;36mget_audio\u001b[0;34m()\u001b[0m\n\u001b[1;32m      1\u001b[0m \u001b[0;32mdef\u001b[0m \u001b[0mget_audio\u001b[0m\u001b[0;34m(\u001b[0m\u001b[0;34m)\u001b[0m\u001b[0;34m:\u001b[0m\u001b[0;34m\u001b[0m\u001b[0;34m\u001b[0m\u001b[0m\n\u001b[1;32m      2\u001b[0m   \u001b[0mr\u001b[0m \u001b[0;34m=\u001b[0m \u001b[0msr\u001b[0m\u001b[0;34m.\u001b[0m\u001b[0mRecognizer\u001b[0m\u001b[0;34m(\u001b[0m\u001b[0;34m)\u001b[0m\u001b[0;34m\u001b[0m\u001b[0;34m\u001b[0m\u001b[0m\n\u001b[0;32m----> 3\u001b[0;31m   \u001b[0;32mwith\u001b[0m \u001b[0msr\u001b[0m\u001b[0;34m.\u001b[0m\u001b[0mMicrophone\u001b[0m\u001b[0;34m(\u001b[0m\u001b[0;34m)\u001b[0m \u001b[0;32mas\u001b[0m \u001b[0msource\u001b[0m\u001b[0;34m:\u001b[0m\u001b[0;34m\u001b[0m\u001b[0;34m\u001b[0m\u001b[0m\n\u001b[0m\u001b[1;32m      4\u001b[0m     \u001b[0mr\u001b[0m\u001b[0;34m.\u001b[0m\u001b[0mpause_threshold\u001b[0m \u001b[0;34m=\u001b[0m \u001b[0;36m1\u001b[0m\u001b[0;34m\u001b[0m\u001b[0;34m\u001b[0m\u001b[0m\n\u001b[1;32m      5\u001b[0m     \u001b[0mr\u001b[0m\u001b[0;34m.\u001b[0m\u001b[0madjust_for_ambient_noise\u001b[0m\u001b[0;34m(\u001b[0m\u001b[0msource\u001b[0m\u001b[0;34m,\u001b[0m \u001b[0mduration\u001b[0m\u001b[0;34m=\u001b[0m\u001b[0;36m1\u001b[0m\u001b[0;34m)\u001b[0m\u001b[0;34m\u001b[0m\u001b[0;34m\u001b[0m\u001b[0m\n",
            "\u001b[0;32m/usr/local/lib/python3.12/dist-packages/speech_recognition/__init__.py\u001b[0m in \u001b[0;36m__init__\u001b[0;34m(self, device_index, sample_rate, chunk_size)\u001b[0m\n\u001b[1;32m     73\u001b[0m \u001b[0;34m\u001b[0m\u001b[0m\n\u001b[1;32m     74\u001b[0m         \u001b[0;31m# set up PyAudio\u001b[0m\u001b[0;34m\u001b[0m\u001b[0;34m\u001b[0m\u001b[0m\n\u001b[0;32m---> 75\u001b[0;31m         \u001b[0mself\u001b[0m\u001b[0;34m.\u001b[0m\u001b[0mpyaudio_module\u001b[0m \u001b[0;34m=\u001b[0m \u001b[0mself\u001b[0m\u001b[0;34m.\u001b[0m\u001b[0mget_pyaudio\u001b[0m\u001b[0;34m(\u001b[0m\u001b[0;34m)\u001b[0m\u001b[0;34m\u001b[0m\u001b[0;34m\u001b[0m\u001b[0m\n\u001b[0m\u001b[1;32m     76\u001b[0m         \u001b[0maudio\u001b[0m \u001b[0;34m=\u001b[0m \u001b[0mself\u001b[0m\u001b[0;34m.\u001b[0m\u001b[0mpyaudio_module\u001b[0m\u001b[0;34m.\u001b[0m\u001b[0mPyAudio\u001b[0m\u001b[0;34m(\u001b[0m\u001b[0;34m)\u001b[0m\u001b[0;34m\u001b[0m\u001b[0;34m\u001b[0m\u001b[0m\n\u001b[1;32m     77\u001b[0m         \u001b[0;32mtry\u001b[0m\u001b[0;34m:\u001b[0m\u001b[0;34m\u001b[0m\u001b[0;34m\u001b[0m\u001b[0m\n",
            "\u001b[0;32m/usr/local/lib/python3.12/dist-packages/speech_recognition/__init__.py\u001b[0m in \u001b[0;36mget_pyaudio\u001b[0;34m()\u001b[0m\n\u001b[1;32m    103\u001b[0m             \u001b[0;32mimport\u001b[0m \u001b[0mpyaudio\u001b[0m\u001b[0;34m\u001b[0m\u001b[0;34m\u001b[0m\u001b[0m\n\u001b[1;32m    104\u001b[0m         \u001b[0;32mexcept\u001b[0m \u001b[0mImportError\u001b[0m\u001b[0;34m:\u001b[0m\u001b[0;34m\u001b[0m\u001b[0;34m\u001b[0m\u001b[0m\n\u001b[0;32m--> 105\u001b[0;31m             \u001b[0;32mraise\u001b[0m \u001b[0mAttributeError\u001b[0m\u001b[0;34m(\u001b[0m\u001b[0;34m\"Could not find PyAudio; check installation\"\u001b[0m\u001b[0;34m)\u001b[0m\u001b[0;34m\u001b[0m\u001b[0;34m\u001b[0m\u001b[0m\n\u001b[0m\u001b[1;32m    106\u001b[0m         \u001b[0;32mreturn\u001b[0m \u001b[0mpyaudio\u001b[0m\u001b[0;34m\u001b[0m\u001b[0;34m\u001b[0m\u001b[0m\n\u001b[1;32m    107\u001b[0m \u001b[0;34m\u001b[0m\u001b[0m\n",
            "\u001b[0;31mAttributeError\u001b[0m: Could not find PyAudio; check installation"
          ]
        }
      ]
    }
  ]
}